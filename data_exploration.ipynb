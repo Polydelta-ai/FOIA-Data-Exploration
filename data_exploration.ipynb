{
 "cells": [
  {
   "cell_type": "markdown",
   "metadata": {},
   "source": [
    "# FOIA Logs and Vector DB Metadata Demonstration"
   ]
  },
  {
   "cell_type": "code",
   "execution_count": 1,
   "metadata": {},
   "outputs": [],
   "source": [
    "import pandas as pd"
   ]
  },
  {
   "cell_type": "markdown",
   "metadata": {},
   "source": [
    "# FOIA Logs Data Exploration"
   ]
  },
  {
   "cell_type": "code",
   "execution_count": 2,
   "metadata": {},
   "outputs": [
    {
     "data": {
      "text/html": [
       "<div>\n",
       "<style scoped>\n",
       "    .dataframe tbody tr th:only-of-type {\n",
       "        vertical-align: middle;\n",
       "    }\n",
       "\n",
       "    .dataframe tbody tr th {\n",
       "        vertical-align: top;\n",
       "    }\n",
       "\n",
       "    .dataframe thead th {\n",
       "        text-align: right;\n",
       "    }\n",
       "</style>\n",
       "<table border=\"1\" class=\"dataframe\">\n",
       "  <thead>\n",
       "    <tr style=\"text-align: right;\">\n",
       "      <th></th>\n",
       "      <th>request_id</th>\n",
       "      <th>request</th>\n",
       "      <th>disposition</th>\n",
       "      <th>abbreviation</th>\n",
       "      <th>agency</th>\n",
       "    </tr>\n",
       "  </thead>\n",
       "  <tbody>\n",
       "    <tr>\n",
       "      <th>0</th>\n",
       "      <td>CEQ-AGENCY-000001</td>\n",
       "      <td>Christy Goldfuss schedule from June 1 2015 thr...</td>\n",
       "      <td>NaN</td>\n",
       "      <td>CEQ</td>\n",
       "      <td>AGENCY</td>\n",
       "    </tr>\n",
       "    <tr>\n",
       "      <th>1</th>\n",
       "      <td>CEQ-AGENCY-000002</td>\n",
       "      <td>List of special government employees as define...</td>\n",
       "      <td>NaN</td>\n",
       "      <td>CEQ</td>\n",
       "      <td>AGENCY</td>\n",
       "    </tr>\n",
       "    <tr>\n",
       "      <th>2</th>\n",
       "      <td>CEQ-AGENCY-000003</td>\n",
       "      <td>FOIA Log Reports for month of June 2015</td>\n",
       "      <td>NaN</td>\n",
       "      <td>CEQ</td>\n",
       "      <td>AGENCY</td>\n",
       "    </tr>\n",
       "    <tr>\n",
       "      <th>3</th>\n",
       "      <td>CEQ-AGENCY-000004</td>\n",
       "      <td>Logs of correspondence that record letters fro...</td>\n",
       "      <td>NaN</td>\n",
       "      <td>CEQ</td>\n",
       "      <td>AGENCY</td>\n",
       "    </tr>\n",
       "    <tr>\n",
       "      <th>4</th>\n",
       "      <td>CEQ-AGENCY-000005</td>\n",
       "      <td>Ethics waivers in resolving financial conflict...</td>\n",
       "      <td>NaN</td>\n",
       "      <td>CEQ</td>\n",
       "      <td>AGENCY</td>\n",
       "    </tr>\n",
       "    <tr>\n",
       "      <th>...</th>\n",
       "      <td>...</td>\n",
       "      <td>...</td>\n",
       "      <td>...</td>\n",
       "      <td>...</td>\n",
       "      <td>...</td>\n",
       "    </tr>\n",
       "    <tr>\n",
       "      <th>124381</th>\n",
       "      <td>VHA-VA-002496</td>\n",
       "      <td>LEXIS NEXIS is requesting Police Report  #654I...</td>\n",
       "      <td>-</td>\n",
       "      <td>VHA</td>\n",
       "      <td>VA</td>\n",
       "    </tr>\n",
       "    <tr>\n",
       "      <th>124382</th>\n",
       "      <td>VHA-VA-002497</td>\n",
       "      <td>Job Announcement Number- CBDU-10626462-20-  LP...</td>\n",
       "      <td>Granted/Denied in Part</td>\n",
       "      <td>VHA</td>\n",
       "      <td>VA</td>\n",
       "    </tr>\n",
       "    <tr>\n",
       "      <th>124383</th>\n",
       "      <td>VHA-VA-002498</td>\n",
       "      <td>To obtairj  state of licensure  and license nu...</td>\n",
       "      <td>Granted in Full</td>\n",
       "      <td>VHA</td>\n",
       "      <td>VA</td>\n",
       "    </tr>\n",
       "    <tr>\n",
       "      <th>124384</th>\n",
       "      <td>VHA-VA-002499</td>\n",
       "      <td>USA Job Applications scores 1) CBAY - 10509802...</td>\n",
       "      <td>NaN</td>\n",
       "      <td>VHA</td>\n",
       "      <td>VA</td>\n",
       "    </tr>\n",
       "    <tr>\n",
       "      <th>124385</th>\n",
       "      <td>VHA-VA-002500</td>\n",
       "      <td>any and all medical records pertaining to (6)(...</td>\n",
       "      <td>Other Reasons - No records</td>\n",
       "      <td>VHA</td>\n",
       "      <td>VA</td>\n",
       "    </tr>\n",
       "  </tbody>\n",
       "</table>\n",
       "<p>124386 rows × 5 columns</p>\n",
       "</div>"
      ],
      "text/plain": [
       "               request_id                                            request  \\\n",
       "0       CEQ-AGENCY-000001  Christy Goldfuss schedule from June 1 2015 thr...   \n",
       "1       CEQ-AGENCY-000002  List of special government employees as define...   \n",
       "2       CEQ-AGENCY-000003            FOIA Log Reports for month of June 2015   \n",
       "3       CEQ-AGENCY-000004  Logs of correspondence that record letters fro...   \n",
       "4       CEQ-AGENCY-000005  Ethics waivers in resolving financial conflict...   \n",
       "...                   ...                                                ...   \n",
       "124381      VHA-VA-002496  LEXIS NEXIS is requesting Police Report  #654I...   \n",
       "124382      VHA-VA-002497  Job Announcement Number- CBDU-10626462-20-  LP...   \n",
       "124383      VHA-VA-002498  To obtairj  state of licensure  and license nu...   \n",
       "124384      VHA-VA-002499  USA Job Applications scores 1) CBAY - 10509802...   \n",
       "124385      VHA-VA-002500  any and all medical records pertaining to (6)(...   \n",
       "\n",
       "                       disposition abbreviation  agency  \n",
       "0                              NaN          CEQ  AGENCY  \n",
       "1                              NaN          CEQ  AGENCY  \n",
       "2                              NaN          CEQ  AGENCY  \n",
       "3                              NaN          CEQ  AGENCY  \n",
       "4                              NaN          CEQ  AGENCY  \n",
       "...                            ...          ...     ...  \n",
       "124381                           -          VHA      VA  \n",
       "124382      Granted/Denied in Part          VHA      VA  \n",
       "124383             Granted in Full          VHA      VA  \n",
       "124384                         NaN          VHA      VA  \n",
       "124385  Other Reasons - No records          VHA      VA  \n",
       "\n",
       "[124386 rows x 5 columns]"
      ]
     },
     "execution_count": 2,
     "metadata": {},
     "output_type": "execute_result"
    }
   ],
   "source": [
    "logs_df = pd.read_csv('logs_tabular.csv')\n",
    "logs_df = logs_df[['request_id','request','disposition','component']]\n",
    "ref_df = pd.read_csv('foia_logs_index.csv')\n",
    "#display a nice data snippet\n",
    "\n",
    "view_df = logs_df.merge(ref_df, left_on='component', right_on='model_num')[[\n",
    "    'request_id', \n",
    "    'request',\n",
    "    'disposition',\n",
    "    'abbreviation',\n",
    "    'agency']]\n",
    "\n",
    "view_df"
   ]
  },
  {
   "cell_type": "markdown",
   "metadata": {},
   "source": [
    "#### Info and Shape"
   ]
  },
  {
   "cell_type": "code",
   "execution_count": 3,
   "metadata": {},
   "outputs": [],
   "source": [
    "logs_df.disposition.value_counts().to_csv(\"disposition_type.csv\")"
   ]
  },
  {
   "cell_type": "code",
   "execution_count": 4,
   "metadata": {},
   "outputs": [
    {
     "data": {
      "text/plain": [
       "47922    credit counseling and debtor  education applic...\n",
       "47923    emails the USTP sent or received  from the ema...\n",
       "47924                      a third party's bankruptcy case\n",
       "47925           the requester's corporate bankruptcy  case\n",
       "47926                           credit counseling agencies\n",
       "                               ...                        \n",
       "48091                     US trustee performance of duties\n",
       "48092                   Chapter 7 panel trustee complaints\n",
       "48093                            a letter sent to the USTP\n",
       "48094                                    a bankruptcy case\n",
       "48095                                         IT purchases\n",
       "Name: request, Length: 174, dtype: object"
      ]
     },
     "execution_count": 4,
     "metadata": {},
     "output_type": "execute_result"
    }
   ],
   "source": [
    "## a sample of some data filtered to the CDC\n",
    "logs_df[logs_df['component'] == 65].request"
   ]
  },
  {
   "cell_type": "markdown",
   "metadata": {},
   "source": [
    "#### Further Exploration"
   ]
  },
  {
   "cell_type": "code",
   "execution_count": 5,
   "metadata": {},
   "outputs": [],
   "source": [
    "## further exploration code"
   ]
  },
  {
   "cell_type": "markdown",
   "metadata": {},
   "source": [
    "# FreqDocs Vector Metadata Exploration"
   ]
  },
  {
   "cell_type": "code",
   "execution_count": 6,
   "metadata": {},
   "outputs": [
    {
     "data": {
      "text/html": [
       "<div>\n",
       "<style scoped>\n",
       "    .dataframe tbody tr th:only-of-type {\n",
       "        vertical-align: middle;\n",
       "    }\n",
       "\n",
       "    .dataframe tbody tr th {\n",
       "        vertical-align: top;\n",
       "    }\n",
       "\n",
       "    .dataframe thead th {\n",
       "        text-align: right;\n",
       "    }\n",
       "</style>\n",
       "<table border=\"1\" class=\"dataframe\">\n",
       "  <thead>\n",
       "    <tr style=\"text-align: right;\">\n",
       "      <th></th>\n",
       "      <th>title</th>\n",
       "      <th>component</th>\n",
       "      <th>abbreviation</th>\n",
       "      <th>parent_abbreviation</th>\n",
       "      <th>href</th>\n",
       "      <th>origination_url</th>\n",
       "    </tr>\n",
       "  </thead>\n",
       "  <tbody>\n",
       "    <tr>\n",
       "      <th>0</th>\n",
       "      <td>American Opportunities Regional Center Inc</td>\n",
       "      <td>U.S. Citizenship &amp; Immigration Services</td>\n",
       "      <td>USCIS</td>\n",
       "      <td>DHS</td>\n",
       "      <td>https://www.uscis.gov/sites/default/files/docu...</td>\n",
       "      <td>no_origin</td>\n",
       "    </tr>\n",
       "    <tr>\n",
       "      <th>1</th>\n",
       "      <td>1100.73-4 Reasonable Accommodation Program</td>\n",
       "      <td>Transportation Security Administration</td>\n",
       "      <td>TSA</td>\n",
       "      <td>DHS</td>\n",
       "      <td>https://www.tsa.gov/sites/default/files/foia-r...</td>\n",
       "      <td>no_origin</td>\n",
       "    </tr>\n",
       "    <tr>\n",
       "      <th>2</th>\n",
       "      <td>National Organization for Women (NOW)</td>\n",
       "      <td>Federal Bureau of Investigation</td>\n",
       "      <td>FBI</td>\n",
       "      <td>DOJ</td>\n",
       "      <td>https://vault.fbi.gov/National%20Organization%...</td>\n",
       "      <td>no_origin</td>\n",
       "    </tr>\n",
       "    <tr>\n",
       "      <th>3</th>\n",
       "      <td>Prosperity Regional Center LLC formerly US Pro...</td>\n",
       "      <td>U.S. Citizenship &amp; Immigration Services</td>\n",
       "      <td>USCIS</td>\n",
       "      <td>DHS</td>\n",
       "      <td>https://www.uscis.gov/sites/default/files/docu...</td>\n",
       "      <td>no_origin</td>\n",
       "    </tr>\n",
       "    <tr>\n",
       "      <th>4</th>\n",
       "      <td>900 Equal Employment Opportunity Policy Statement</td>\n",
       "      <td>Transportation Security Administration</td>\n",
       "      <td>TSA</td>\n",
       "      <td>DHS</td>\n",
       "      <td>https://www.tsa.gov/sites/default/files/foia-r...</td>\n",
       "      <td>no_origin</td>\n",
       "    </tr>\n",
       "  </tbody>\n",
       "</table>\n",
       "</div>"
      ],
      "text/plain": [
       "                                               title  \\\n",
       "0         American Opportunities Regional Center Inc   \n",
       "1         1100.73-4 Reasonable Accommodation Program   \n",
       "2              National Organization for Women (NOW)   \n",
       "3  Prosperity Regional Center LLC formerly US Pro...   \n",
       "4  900 Equal Employment Opportunity Policy Statement   \n",
       "\n",
       "                                 component abbreviation parent_abbreviation  \\\n",
       "0  U.S. Citizenship & Immigration Services        USCIS                 DHS   \n",
       "1   Transportation Security Administration          TSA                 DHS   \n",
       "2          Federal Bureau of Investigation          FBI                 DOJ   \n",
       "3  U.S. Citizenship & Immigration Services        USCIS                 DHS   \n",
       "4   Transportation Security Administration          TSA                 DHS   \n",
       "\n",
       "                                                href origination_url  \n",
       "0  https://www.uscis.gov/sites/default/files/docu...       no_origin  \n",
       "1  https://www.tsa.gov/sites/default/files/foia-r...       no_origin  \n",
       "2  https://vault.fbi.gov/National%20Organization%...       no_origin  \n",
       "3  https://www.uscis.gov/sites/default/files/docu...       no_origin  \n",
       "4  https://www.tsa.gov/sites/default/files/foia-r...       no_origin  "
      ]
     },
     "execution_count": 6,
     "metadata": {},
     "output_type": "execute_result"
    }
   ],
   "source": [
    "vec_meta_df = pd.read_csv('freqdocs.csv')\n",
    "vec_meta_df.head()"
   ]
  },
  {
   "cell_type": "markdown",
   "metadata": {},
   "source": [
    "#### Info and Shape"
   ]
  },
  {
   "cell_type": "code",
   "execution_count": 7,
   "metadata": {},
   "outputs": [
    {
     "name": "stdout",
     "output_type": "stream",
     "text": [
      "<class 'pandas.core.frame.DataFrame'>\n",
      "RangeIndex: 38385 entries, 0 to 38384\n",
      "Data columns (total 6 columns):\n",
      " #   Column               Non-Null Count  Dtype \n",
      "---  ------               --------------  ----- \n",
      " 0   title                38385 non-null  object\n",
      " 1   component            38385 non-null  object\n",
      " 2   abbreviation         38334 non-null  object\n",
      " 3   parent_abbreviation  33055 non-null  object\n",
      " 4   href                 38385 non-null  object\n",
      " 5   origination_url      38385 non-null  object\n",
      "dtypes: object(6)\n",
      "memory usage: 1.8+ MB\n"
     ]
    }
   ],
   "source": [
    "vec_meta_df.info()"
   ]
  },
  {
   "cell_type": "markdown",
   "metadata": {},
   "source": [
    "#### Further Exploration"
   ]
  },
  {
   "cell_type": "code",
   "execution_count": 8,
   "metadata": {},
   "outputs": [
    {
     "data": {
      "text/html": [
       "<div>\n",
       "<style scoped>\n",
       "    .dataframe tbody tr th:only-of-type {\n",
       "        vertical-align: middle;\n",
       "    }\n",
       "\n",
       "    .dataframe tbody tr th {\n",
       "        vertical-align: top;\n",
       "    }\n",
       "\n",
       "    .dataframe thead th {\n",
       "        text-align: right;\n",
       "    }\n",
       "</style>\n",
       "<table border=\"1\" class=\"dataframe\">\n",
       "  <thead>\n",
       "    <tr style=\"text-align: right;\">\n",
       "      <th></th>\n",
       "      <th>title</th>\n",
       "      <th>component</th>\n",
       "      <th>abbreviation</th>\n",
       "      <th>parent_abbreviation</th>\n",
       "    </tr>\n",
       "  </thead>\n",
       "  <tbody>\n",
       "    <tr>\n",
       "      <th>0</th>\n",
       "      <td>American Opportunities Regional Center Inc</td>\n",
       "      <td>U.S. Citizenship &amp; Immigration Services</td>\n",
       "      <td>USCIS</td>\n",
       "      <td>DHS</td>\n",
       "    </tr>\n",
       "    <tr>\n",
       "      <th>1</th>\n",
       "      <td>1100.73-4 Reasonable Accommodation Program</td>\n",
       "      <td>Transportation Security Administration</td>\n",
       "      <td>TSA</td>\n",
       "      <td>DHS</td>\n",
       "    </tr>\n",
       "    <tr>\n",
       "      <th>2</th>\n",
       "      <td>National Organization for Women (NOW)</td>\n",
       "      <td>Federal Bureau of Investigation</td>\n",
       "      <td>FBI</td>\n",
       "      <td>DOJ</td>\n",
       "    </tr>\n",
       "    <tr>\n",
       "      <th>3</th>\n",
       "      <td>Prosperity Regional Center LLC formerly US Pro...</td>\n",
       "      <td>U.S. Citizenship &amp; Immigration Services</td>\n",
       "      <td>USCIS</td>\n",
       "      <td>DHS</td>\n",
       "    </tr>\n",
       "    <tr>\n",
       "      <th>4</th>\n",
       "      <td>900 Equal Employment Opportunity Policy Statement</td>\n",
       "      <td>Transportation Security Administration</td>\n",
       "      <td>TSA</td>\n",
       "      <td>DHS</td>\n",
       "    </tr>\n",
       "  </tbody>\n",
       "</table>\n",
       "</div>"
      ],
      "text/plain": [
       "                                               title  \\\n",
       "0         American Opportunities Regional Center Inc   \n",
       "1         1100.73-4 Reasonable Accommodation Program   \n",
       "2              National Organization for Women (NOW)   \n",
       "3  Prosperity Regional Center LLC formerly US Pro...   \n",
       "4  900 Equal Employment Opportunity Policy Statement   \n",
       "\n",
       "                                 component abbreviation parent_abbreviation  \n",
       "0  U.S. Citizenship & Immigration Services        USCIS                 DHS  \n",
       "1   Transportation Security Administration          TSA                 DHS  \n",
       "2          Federal Bureau of Investigation          FBI                 DOJ  \n",
       "3  U.S. Citizenship & Immigration Services        USCIS                 DHS  \n",
       "4   Transportation Security Administration          TSA                 DHS  "
      ]
     },
     "execution_count": 8,
     "metadata": {},
     "output_type": "execute_result"
    }
   ],
   "source": [
    "## further exploration code \n",
    "vec_meta_df.iloc[:5][['title','component','abbreviation','parent_abbreviation']]"
   ]
  },
  {
   "cell_type": "code",
   "execution_count": 13,
   "metadata": {},
   "outputs": [
    {
     "name": "stdout",
     "output_type": "stream",
     "text": [
      "153\n"
     ]
    }
   ],
   "source": [
    "## unique agency components in FreqDocs\n",
    "\n",
    "df = vec_meta_df[[\"abbreviation\",\"parent_abbreviation\"]].value_counts().reset_index()\n",
    "df.columns = [\"abbreviation\",\"parent_abbreviation\",\"count\"]\n",
    "df.head()\n",
    "print(len(df))\n",
    "\n",
    "df.to_csv(\"freqdocs_agencies.csv\")"
   ]
  }
 ],
 "metadata": {
  "kernelspec": {
   "display_name": "base",
   "language": "python",
   "name": "python3"
  },
  "language_info": {
   "codemirror_mode": {
    "name": "ipython",
    "version": 3
   },
   "file_extension": ".py",
   "mimetype": "text/x-python",
   "name": "python",
   "nbconvert_exporter": "python",
   "pygments_lexer": "ipython3",
   "version": "3.11.4"
  },
  "orig_nbformat": 4
 },
 "nbformat": 4,
 "nbformat_minor": 2
}
