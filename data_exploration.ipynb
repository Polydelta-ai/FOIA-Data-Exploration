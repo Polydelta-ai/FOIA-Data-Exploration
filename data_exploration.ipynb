{
 "cells": [
  {
   "cell_type": "markdown",
   "metadata": {},
   "source": [
    "### FOIA Logs and Vector DB Metadata Demonstration"
   ]
  },
  {
   "cell_type": "code",
   "execution_count": 1,
   "metadata": {},
   "outputs": [],
   "source": [
    "import pandas as pd"
   ]
  },
  {
   "cell_type": "markdown",
   "metadata": {},
   "source": [
    "### FOIA Logs Data Exploration"
   ]
  },
  {
   "cell_type": "code",
   "execution_count": 12,
   "metadata": {},
   "outputs": [
    {
     "data": {
      "text/html": [
       "<div>\n",
       "<style scoped>\n",
       "    .dataframe tbody tr th:only-of-type {\n",
       "        vertical-align: middle;\n",
       "    }\n",
       "\n",
       "    .dataframe tbody tr th {\n",
       "        vertical-align: top;\n",
       "    }\n",
       "\n",
       "    .dataframe thead th {\n",
       "        text-align: right;\n",
       "    }\n",
       "</style>\n",
       "<table border=\"1\" class=\"dataframe\">\n",
       "  <thead>\n",
       "    <tr style=\"text-align: right;\">\n",
       "      <th></th>\n",
       "      <th>request_id</th>\n",
       "      <th>request</th>\n",
       "      <th>disposition</th>\n",
       "      <th>component</th>\n",
       "    </tr>\n",
       "  </thead>\n",
       "  <tbody>\n",
       "    <tr>\n",
       "      <th>332</th>\n",
       "      <td>CBP-DHS-000173</td>\n",
       "      <td>Copies of all agendas, participant lists, prep...</td>\n",
       "      <td>Records Not Reasonably Described</td>\n",
       "      <td>2</td>\n",
       "    </tr>\n",
       "    <tr>\n",
       "      <th>333</th>\n",
       "      <td>CBP-DHS-000174</td>\n",
       "      <td>Seeking copies of photos and/or videos of bord...</td>\n",
       "      <td>NaN</td>\n",
       "      <td>2</td>\n",
       "    </tr>\n",
       "    <tr>\n",
       "      <th>334</th>\n",
       "      <td>CBP-DHS-000175</td>\n",
       "      <td>I'd like to request CBP's data on repeat offen...</td>\n",
       "      <td>NaN</td>\n",
       "      <td>2</td>\n",
       "    </tr>\n",
       "    <tr>\n",
       "      <th>335</th>\n",
       "      <td>CBP-DHS-000176</td>\n",
       "      <td>I would like any and all records (with persona...</td>\n",
       "      <td>No Records</td>\n",
       "      <td>2</td>\n",
       "    </tr>\n",
       "    <tr>\n",
       "      <th>336</th>\n",
       "      <td>CBP-DHS-000177</td>\n",
       "      <td>Please provide records or documents reflecting...</td>\n",
       "      <td>Full Grant</td>\n",
       "      <td>2</td>\n",
       "    </tr>\n",
       "  </tbody>\n",
       "</table>\n",
       "</div>"
      ],
      "text/plain": [
       "         request_id                                            request  \\\n",
       "332  CBP-DHS-000173  Copies of all agendas, participant lists, prep...   \n",
       "333  CBP-DHS-000174  Seeking copies of photos and/or videos of bord...   \n",
       "334  CBP-DHS-000175  I'd like to request CBP's data on repeat offen...   \n",
       "335  CBP-DHS-000176  I would like any and all records (with persona...   \n",
       "336  CBP-DHS-000177  Please provide records or documents reflecting...   \n",
       "\n",
       "                          disposition  component  \n",
       "332  Records Not Reasonably Described          2  \n",
       "333                               NaN          2  \n",
       "334                               NaN          2  \n",
       "335                        No Records          2  \n",
       "336                        Full Grant          2  "
      ]
     },
     "execution_count": 12,
     "metadata": {},
     "output_type": "execute_result"
    }
   ],
   "source": [
    "logs_df = pd.read_csv('logs_tabular.csv')\n",
    "logs_df = logs_df[['request_id','request','disposition','component']]\n",
    "#display a nice data snippet\n",
    "logs_df.iloc[332:337]"
   ]
  },
  {
   "cell_type": "code",
   "execution_count": 13,
   "metadata": {},
   "outputs": [
    {
     "data": {
      "text/html": [
       "<div>\n",
       "<style scoped>\n",
       "    .dataframe tbody tr th:only-of-type {\n",
       "        vertical-align: middle;\n",
       "    }\n",
       "\n",
       "    .dataframe tbody tr th {\n",
       "        vertical-align: top;\n",
       "    }\n",
       "\n",
       "    .dataframe thead th {\n",
       "        text-align: right;\n",
       "    }\n",
       "</style>\n",
       "<table border=\"1\" class=\"dataframe\">\n",
       "  <thead>\n",
       "    <tr style=\"text-align: right;\">\n",
       "      <th></th>\n",
       "      <th>request_id</th>\n",
       "      <th>request</th>\n",
       "      <th>disposition</th>\n",
       "      <th>component</th>\n",
       "    </tr>\n",
       "  </thead>\n",
       "  <tbody>\n",
       "    <tr>\n",
       "      <th>43395</th>\n",
       "      <td>CDC-HHS-000001</td>\n",
       "      <td>copies of proposals and attachments, CDC-RFA-P...</td>\n",
       "      <td>NaN</td>\n",
       "      <td>65</td>\n",
       "    </tr>\n",
       "    <tr>\n",
       "      <th>43396</th>\n",
       "      <td>CDC-HHS-000002</td>\n",
       "      <td>respective records related to the \"Outbreak of...</td>\n",
       "      <td>NaN</td>\n",
       "      <td>65</td>\n",
       "    </tr>\n",
       "    <tr>\n",
       "      <th>43397</th>\n",
       "      <td>CDC-HHS-000003</td>\n",
       "      <td>for all information regarding the 2013 CDC mul...</td>\n",
       "      <td>NaN</td>\n",
       "      <td>65</td>\n",
       "    </tr>\n",
       "    <tr>\n",
       "      <th>43398</th>\n",
       "      <td>CDC-HHS-000004</td>\n",
       "      <td>consultation on a FOIA request for Facility's ...</td>\n",
       "      <td>NaN</td>\n",
       "      <td>65</td>\n",
       "    </tr>\n",
       "    <tr>\n",
       "      <th>43399</th>\n",
       "      <td>CDC-HHS-000005</td>\n",
       "      <td>funded grants for PS10-1003</td>\n",
       "      <td>NaN</td>\n",
       "      <td>65</td>\n",
       "    </tr>\n",
       "  </tbody>\n",
       "</table>\n",
       "</div>"
      ],
      "text/plain": [
       "           request_id                                            request  \\\n",
       "43395  CDC-HHS-000001  copies of proposals and attachments, CDC-RFA-P...   \n",
       "43396  CDC-HHS-000002  respective records related to the \"Outbreak of...   \n",
       "43397  CDC-HHS-000003  for all information regarding the 2013 CDC mul...   \n",
       "43398  CDC-HHS-000004  consultation on a FOIA request for Facility's ...   \n",
       "43399  CDC-HHS-000005                        funded grants for PS10-1003   \n",
       "\n",
       "      disposition  component  \n",
       "43395         NaN         65  \n",
       "43396         NaN         65  \n",
       "43397         NaN         65  \n",
       "43398         NaN         65  \n",
       "43399         NaN         65  "
      ]
     },
     "execution_count": 13,
     "metadata": {},
     "output_type": "execute_result"
    }
   ],
   "source": [
    "## a sample of some data filtered to the CDC\n",
    "logs_df[logs_df['component'] == 65].head()"
   ]
  },
  {
   "cell_type": "code",
   "execution_count": 11,
   "metadata": {},
   "outputs": [
    {
     "name": "stdout",
     "output_type": "stream",
     "text": [
      "<class 'pandas.core.frame.DataFrame'>\n",
      "RangeIndex: 110815 entries, 0 to 110814\n",
      "Data columns (total 4 columns):\n",
      " #   Column       Non-Null Count   Dtype \n",
      "---  ------       --------------   ----- \n",
      " 0   request_id   110815 non-null  object\n",
      " 1   request      110814 non-null  object\n",
      " 2   disposition  52922 non-null   object\n",
      " 3   component    110815 non-null  int64 \n",
      "dtypes: int64(1), object(3)\n",
      "memory usage: 3.4+ MB\n"
     ]
    }
   ],
   "source": [
    "logs_df.info()"
   ]
  },
  {
   "cell_type": "markdown",
   "metadata": {},
   "source": [
    "#### Further Exploration"
   ]
  },
  {
   "cell_type": "code",
   "execution_count": null,
   "metadata": {},
   "outputs": [],
   "source": [
    "## further exploration code"
   ]
  },
  {
   "cell_type": "markdown",
   "metadata": {},
   "source": [
    "### FreqDocs Vector Metadata Exploration"
   ]
  }
 ],
 "metadata": {
  "kernelspec": {
   "display_name": "base",
   "language": "python",
   "name": "python3"
  },
  "language_info": {
   "codemirror_mode": {
    "name": "ipython",
    "version": 3
   },
   "file_extension": ".py",
   "mimetype": "text/x-python",
   "name": "python",
   "nbconvert_exporter": "python",
   "pygments_lexer": "ipython3",
   "version": "3.11.4"
  },
  "orig_nbformat": 4
 },
 "nbformat": 4,
 "nbformat_minor": 2
}
