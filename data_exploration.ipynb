{
 "cells": [
  {
   "cell_type": "markdown",
   "metadata": {},
   "source": [
    "# FOIA Logs and Vector DB Metadata Demonstration"
   ]
  },
  {
   "cell_type": "code",
   "execution_count": 1,
   "metadata": {},
   "outputs": [],
   "source": [
    "import pandas as pd"
   ]
  },
  {
   "cell_type": "markdown",
   "metadata": {},
   "source": [
    "# FOIA Logs Data Exploration"
   ]
  },
  {
   "cell_type": "code",
   "execution_count": 18,
   "metadata": {},
   "outputs": [
    {
     "data": {
      "text/html": [
       "<div>\n",
       "<style scoped>\n",
       "    .dataframe tbody tr th:only-of-type {\n",
       "        vertical-align: middle;\n",
       "    }\n",
       "\n",
       "    .dataframe tbody tr th {\n",
       "        vertical-align: top;\n",
       "    }\n",
       "\n",
       "    .dataframe thead th {\n",
       "        text-align: right;\n",
       "    }\n",
       "</style>\n",
       "<table border=\"1\" class=\"dataframe\">\n",
       "  <thead>\n",
       "    <tr style=\"text-align: right;\">\n",
       "      <th></th>\n",
       "      <th>request_id</th>\n",
       "      <th>request</th>\n",
       "      <th>disposition</th>\n",
       "      <th>abbreviation</th>\n",
       "      <th>agency</th>\n",
       "    </tr>\n",
       "  </thead>\n",
       "  <tbody>\n",
       "    <tr>\n",
       "      <th>0</th>\n",
       "      <td>CRCL-DHS-000001</td>\n",
       "      <td>All complaints, final reports, and final memos...</td>\n",
       "      <td>NaN</td>\n",
       "      <td>CRCL</td>\n",
       "      <td>DHS</td>\n",
       "    </tr>\n",
       "    <tr>\n",
       "      <th>1</th>\n",
       "      <td>CRCL-DHS-000002</td>\n",
       "      <td>Records concerning ICE home-based enforcement ...</td>\n",
       "      <td>NaN</td>\n",
       "      <td>CRCL</td>\n",
       "      <td>DHS</td>\n",
       "    </tr>\n",
       "    <tr>\n",
       "      <th>2</th>\n",
       "      <td>CRCL-DHS-000003</td>\n",
       "      <td>any and all records, which includes but is not...</td>\n",
       "      <td>NaN</td>\n",
       "      <td>CRCL</td>\n",
       "      <td>DHS</td>\n",
       "    </tr>\n",
       "    <tr>\n",
       "      <th>3</th>\n",
       "      <td>CRCL-DHS-000004</td>\n",
       "      <td>any recommendations, guidance, reports, or oth...</td>\n",
       "      <td>NaN</td>\n",
       "      <td>CRCL</td>\n",
       "      <td>DHS</td>\n",
       "    </tr>\n",
       "    <tr>\n",
       "      <th>4</th>\n",
       "      <td>CRCL-DHS-000005</td>\n",
       "      <td>All records regarding the transfer, position d...</td>\n",
       "      <td>NaN</td>\n",
       "      <td>CRCL</td>\n",
       "      <td>DHS</td>\n",
       "    </tr>\n",
       "    <tr>\n",
       "      <th>...</th>\n",
       "      <td>...</td>\n",
       "      <td>...</td>\n",
       "      <td>...</td>\n",
       "      <td>...</td>\n",
       "      <td>...</td>\n",
       "    </tr>\n",
       "    <tr>\n",
       "      <th>110810</th>\n",
       "      <td>NASA-AGENCY-002496</td>\n",
       "      <td>proposal submitted by L&amp;M Technologies, Inc. r...</td>\n",
       "      <td>NaN</td>\n",
       "      <td>NASA</td>\n",
       "      <td>AGENCY</td>\n",
       "    </tr>\n",
       "    <tr>\n",
       "      <th>110811</th>\n",
       "      <td>NASA-AGENCY-002497</td>\n",
       "      <td>Contract Number NNJ12JB86C</td>\n",
       "      <td>NaN</td>\n",
       "      <td>NASA</td>\n",
       "      <td>AGENCY</td>\n",
       "    </tr>\n",
       "    <tr>\n",
       "      <th>110812</th>\n",
       "      <td>NASA-AGENCY-002498</td>\n",
       "      <td>Maritime Observation of Ships at Sea (MOSES) e...</td>\n",
       "      <td>NaN</td>\n",
       "      <td>NASA</td>\n",
       "      <td>AGENCY</td>\n",
       "    </tr>\n",
       "    <tr>\n",
       "      <th>110813</th>\n",
       "      <td>NASA-AGENCY-002499</td>\n",
       "      <td>Contract Number NNJ08JA01C</td>\n",
       "      <td>NaN</td>\n",
       "      <td>NASA</td>\n",
       "      <td>AGENCY</td>\n",
       "    </tr>\n",
       "    <tr>\n",
       "      <th>110814</th>\n",
       "      <td>NASA-AGENCY-002500</td>\n",
       "      <td>All records referencing the five oldest FOIA a...</td>\n",
       "      <td>NaN</td>\n",
       "      <td>NASA</td>\n",
       "      <td>AGENCY</td>\n",
       "    </tr>\n",
       "  </tbody>\n",
       "</table>\n",
       "<p>110815 rows × 5 columns</p>\n",
       "</div>"
      ],
      "text/plain": [
       "                request_id                                            request   \n",
       "0          CRCL-DHS-000001  All complaints, final reports, and final memos...  \\\n",
       "1          CRCL-DHS-000002  Records concerning ICE home-based enforcement ...   \n",
       "2          CRCL-DHS-000003  any and all records, which includes but is not...   \n",
       "3          CRCL-DHS-000004  any recommendations, guidance, reports, or oth...   \n",
       "4          CRCL-DHS-000005  All records regarding the transfer, position d...   \n",
       "...                    ...                                                ...   \n",
       "110810  NASA-AGENCY-002496  proposal submitted by L&M Technologies, Inc. r...   \n",
       "110811  NASA-AGENCY-002497                         Contract Number NNJ12JB86C   \n",
       "110812  NASA-AGENCY-002498  Maritime Observation of Ships at Sea (MOSES) e...   \n",
       "110813  NASA-AGENCY-002499                         Contract Number NNJ08JA01C   \n",
       "110814  NASA-AGENCY-002500  All records referencing the five oldest FOIA a...   \n",
       "\n",
       "       disposition abbreviation  agency  \n",
       "0              NaN         CRCL     DHS  \n",
       "1              NaN         CRCL     DHS  \n",
       "2              NaN         CRCL     DHS  \n",
       "3              NaN         CRCL     DHS  \n",
       "4              NaN         CRCL     DHS  \n",
       "...            ...          ...     ...  \n",
       "110810         NaN         NASA  AGENCY  \n",
       "110811         NaN         NASA  AGENCY  \n",
       "110812         NaN         NASA  AGENCY  \n",
       "110813         NaN         NASA  AGENCY  \n",
       "110814         NaN         NASA  AGENCY  \n",
       "\n",
       "[110815 rows x 5 columns]"
      ]
     },
     "execution_count": 18,
     "metadata": {},
     "output_type": "execute_result"
    }
   ],
   "source": [
    "logs_df = pd.read_csv('logs_tabular.csv')\n",
    "logs_df = logs_df[['request_id','request','disposition','component']]\n",
    "ref_df = pd.read_csv('foia_logs_index.csv')\n",
    "#display a nice data snippet\n",
    "\n",
    "view_df = logs_df.merge(ref_df, left_on='component', right_on='model_num')[[\n",
    "    'request_id', \n",
    "    'request',\n",
    "    'disposition',\n",
    "    'abbreviation',\n",
    "    'agency']]\n",
    "\n",
    "view_df"
   ]
  },
  {
   "cell_type": "markdown",
   "metadata": {},
   "source": [
    "#### Info and Shape"
   ]
  },
  {
   "cell_type": "code",
   "execution_count": 28,
   "metadata": {},
   "outputs": [],
   "source": [
    "logs_df.disposition.value_counts().to_csv(\"disposition_type.csv\")"
   ]
  },
  {
   "cell_type": "code",
   "execution_count": 22,
   "metadata": {},
   "outputs": [
    {
     "data": {
      "text/plain": [
       "43395    copies of proposals and attachments, CDC-RFA-P...\n",
       "43396    respective records related to the \"Outbreak of...\n",
       "43397    for all information regarding the 2013 CDC mul...\n",
       "43398    consultation on a FOIA request for Facility's ...\n",
       "43399                          funded grants for PS10-1003\n",
       "                               ...                        \n",
       "45890    Re: IDPB 2015-0940 (Date Range for Record Sear...\n",
       "45891    1. All documents related to complaints of susp...\n",
       "45892    respective records showing updates to the CDC'...\n",
       "45893    Stroke Data: Year, State, Type, Result in Deat...\n",
       "45894    any documents regarding firefighter occupation...\n",
       "Name: request, Length: 2500, dtype: object"
      ]
     },
     "execution_count": 22,
     "metadata": {},
     "output_type": "execute_result"
    }
   ],
   "source": [
    "## a sample of some data filtered to the CDC\n",
    "logs_df[logs_df['component'] == 65].request"
   ]
  },
  {
   "cell_type": "markdown",
   "metadata": {},
   "source": [
    "#### Further Exploration"
   ]
  },
  {
   "cell_type": "code",
   "execution_count": 5,
   "metadata": {},
   "outputs": [],
   "source": [
    "## further exploration code"
   ]
  },
  {
   "cell_type": "markdown",
   "metadata": {},
   "source": [
    "# FreqDocs Vector Metadata Exploration"
   ]
  },
  {
   "cell_type": "code",
   "execution_count": 6,
   "metadata": {},
   "outputs": [
    {
     "data": {
      "text/html": [
       "<div>\n",
       "<style scoped>\n",
       "    .dataframe tbody tr th:only-of-type {\n",
       "        vertical-align: middle;\n",
       "    }\n",
       "\n",
       "    .dataframe tbody tr th {\n",
       "        vertical-align: top;\n",
       "    }\n",
       "\n",
       "    .dataframe thead th {\n",
       "        text-align: right;\n",
       "    }\n",
       "</style>\n",
       "<table border=\"1\" class=\"dataframe\">\n",
       "  <thead>\n",
       "    <tr style=\"text-align: right;\">\n",
       "      <th></th>\n",
       "      <th>title</th>\n",
       "      <th>component</th>\n",
       "      <th>abbreviation</th>\n",
       "      <th>parent_abbreviation</th>\n",
       "      <th>href</th>\n",
       "      <th>origination_url</th>\n",
       "    </tr>\n",
       "  </thead>\n",
       "  <tbody>\n",
       "    <tr>\n",
       "      <th>0</th>\n",
       "      <td>American Opportunities Regional Center Inc</td>\n",
       "      <td>U.S. Citizenship &amp; Immigration Services</td>\n",
       "      <td>USCIS</td>\n",
       "      <td>DHS</td>\n",
       "      <td>https://www.uscis.gov/sites/default/files/docu...</td>\n",
       "      <td>no_origin</td>\n",
       "    </tr>\n",
       "    <tr>\n",
       "      <th>1</th>\n",
       "      <td>1100.73-4 Reasonable Accommodation Program</td>\n",
       "      <td>Transportation Security Administration</td>\n",
       "      <td>TSA</td>\n",
       "      <td>DHS</td>\n",
       "      <td>https://www.tsa.gov/sites/default/files/foia-r...</td>\n",
       "      <td>no_origin</td>\n",
       "    </tr>\n",
       "    <tr>\n",
       "      <th>2</th>\n",
       "      <td>National Organization for Women (NOW)</td>\n",
       "      <td>Federal Bureau of Investigation</td>\n",
       "      <td>FBI</td>\n",
       "      <td>DOJ</td>\n",
       "      <td>https://vault.fbi.gov/National%20Organization%...</td>\n",
       "      <td>no_origin</td>\n",
       "    </tr>\n",
       "    <tr>\n",
       "      <th>3</th>\n",
       "      <td>Prosperity Regional Center LLC formerly US Pro...</td>\n",
       "      <td>U.S. Citizenship &amp; Immigration Services</td>\n",
       "      <td>USCIS</td>\n",
       "      <td>DHS</td>\n",
       "      <td>https://www.uscis.gov/sites/default/files/docu...</td>\n",
       "      <td>no_origin</td>\n",
       "    </tr>\n",
       "    <tr>\n",
       "      <th>4</th>\n",
       "      <td>900 Equal Employment Opportunity Policy Statement</td>\n",
       "      <td>Transportation Security Administration</td>\n",
       "      <td>TSA</td>\n",
       "      <td>DHS</td>\n",
       "      <td>https://www.tsa.gov/sites/default/files/foia-r...</td>\n",
       "      <td>no_origin</td>\n",
       "    </tr>\n",
       "  </tbody>\n",
       "</table>\n",
       "</div>"
      ],
      "text/plain": [
       "                                               title   \n",
       "0         American Opportunities Regional Center Inc  \\\n",
       "1         1100.73-4 Reasonable Accommodation Program   \n",
       "2              National Organization for Women (NOW)   \n",
       "3  Prosperity Regional Center LLC formerly US Pro...   \n",
       "4  900 Equal Employment Opportunity Policy Statement   \n",
       "\n",
       "                                 component abbreviation parent_abbreviation   \n",
       "0  U.S. Citizenship & Immigration Services        USCIS                 DHS  \\\n",
       "1   Transportation Security Administration          TSA                 DHS   \n",
       "2          Federal Bureau of Investigation          FBI                 DOJ   \n",
       "3  U.S. Citizenship & Immigration Services        USCIS                 DHS   \n",
       "4   Transportation Security Administration          TSA                 DHS   \n",
       "\n",
       "                                                href origination_url  \n",
       "0  https://www.uscis.gov/sites/default/files/docu...       no_origin  \n",
       "1  https://www.tsa.gov/sites/default/files/foia-r...       no_origin  \n",
       "2  https://vault.fbi.gov/National%20Organization%...       no_origin  \n",
       "3  https://www.uscis.gov/sites/default/files/docu...       no_origin  \n",
       "4  https://www.tsa.gov/sites/default/files/foia-r...       no_origin  "
      ]
     },
     "execution_count": 6,
     "metadata": {},
     "output_type": "execute_result"
    }
   ],
   "source": [
    "vec_meta_df = pd.read_csv('freqdocs.csv')\n",
    "vec_meta_df.head()"
   ]
  },
  {
   "cell_type": "markdown",
   "metadata": {},
   "source": [
    "#### Info and Shape"
   ]
  },
  {
   "cell_type": "code",
   "execution_count": 7,
   "metadata": {},
   "outputs": [
    {
     "name": "stdout",
     "output_type": "stream",
     "text": [
      "<class 'pandas.core.frame.DataFrame'>\n",
      "RangeIndex: 38385 entries, 0 to 38384\n",
      "Data columns (total 6 columns):\n",
      " #   Column               Non-Null Count  Dtype \n",
      "---  ------               --------------  ----- \n",
      " 0   title                38385 non-null  object\n",
      " 1   component            38385 non-null  object\n",
      " 2   abbreviation         38334 non-null  object\n",
      " 3   parent_abbreviation  33055 non-null  object\n",
      " 4   href                 38385 non-null  object\n",
      " 5   origination_url      38385 non-null  object\n",
      "dtypes: object(6)\n",
      "memory usage: 1.8+ MB\n"
     ]
    }
   ],
   "source": [
    "vec_meta_df.info()"
   ]
  },
  {
   "cell_type": "markdown",
   "metadata": {},
   "source": [
    "#### Further Exploration"
   ]
  },
  {
   "cell_type": "code",
   "execution_count": 12,
   "metadata": {},
   "outputs": [
    {
     "data": {
      "text/html": [
       "<div>\n",
       "<style scoped>\n",
       "    .dataframe tbody tr th:only-of-type {\n",
       "        vertical-align: middle;\n",
       "    }\n",
       "\n",
       "    .dataframe tbody tr th {\n",
       "        vertical-align: top;\n",
       "    }\n",
       "\n",
       "    .dataframe thead th {\n",
       "        text-align: right;\n",
       "    }\n",
       "</style>\n",
       "<table border=\"1\" class=\"dataframe\">\n",
       "  <thead>\n",
       "    <tr style=\"text-align: right;\">\n",
       "      <th></th>\n",
       "      <th>title</th>\n",
       "      <th>component</th>\n",
       "      <th>abbreviation</th>\n",
       "      <th>parent_abbreviation</th>\n",
       "    </tr>\n",
       "  </thead>\n",
       "  <tbody>\n",
       "    <tr>\n",
       "      <th>0</th>\n",
       "      <td>American Opportunities Regional Center Inc</td>\n",
       "      <td>U.S. Citizenship &amp; Immigration Services</td>\n",
       "      <td>USCIS</td>\n",
       "      <td>DHS</td>\n",
       "    </tr>\n",
       "    <tr>\n",
       "      <th>1</th>\n",
       "      <td>1100.73-4 Reasonable Accommodation Program</td>\n",
       "      <td>Transportation Security Administration</td>\n",
       "      <td>TSA</td>\n",
       "      <td>DHS</td>\n",
       "    </tr>\n",
       "    <tr>\n",
       "      <th>2</th>\n",
       "      <td>National Organization for Women (NOW)</td>\n",
       "      <td>Federal Bureau of Investigation</td>\n",
       "      <td>FBI</td>\n",
       "      <td>DOJ</td>\n",
       "    </tr>\n",
       "    <tr>\n",
       "      <th>3</th>\n",
       "      <td>Prosperity Regional Center LLC formerly US Pro...</td>\n",
       "      <td>U.S. Citizenship &amp; Immigration Services</td>\n",
       "      <td>USCIS</td>\n",
       "      <td>DHS</td>\n",
       "    </tr>\n",
       "    <tr>\n",
       "      <th>4</th>\n",
       "      <td>900 Equal Employment Opportunity Policy Statement</td>\n",
       "      <td>Transportation Security Administration</td>\n",
       "      <td>TSA</td>\n",
       "      <td>DHS</td>\n",
       "    </tr>\n",
       "  </tbody>\n",
       "</table>\n",
       "</div>"
      ],
      "text/plain": [
       "                                               title   \n",
       "0         American Opportunities Regional Center Inc  \\\n",
       "1         1100.73-4 Reasonable Accommodation Program   \n",
       "2              National Organization for Women (NOW)   \n",
       "3  Prosperity Regional Center LLC formerly US Pro...   \n",
       "4  900 Equal Employment Opportunity Policy Statement   \n",
       "\n",
       "                                 component abbreviation parent_abbreviation  \n",
       "0  U.S. Citizenship & Immigration Services        USCIS                 DHS  \n",
       "1   Transportation Security Administration          TSA                 DHS  \n",
       "2          Federal Bureau of Investigation          FBI                 DOJ  \n",
       "3  U.S. Citizenship & Immigration Services        USCIS                 DHS  \n",
       "4   Transportation Security Administration          TSA                 DHS  "
      ]
     },
     "execution_count": 12,
     "metadata": {},
     "output_type": "execute_result"
    }
   ],
   "source": [
    "## further exploration code \n",
    "vec_meta_df.iloc[:5][['title','component','abbreviation','parent_abbreviation']]"
   ]
  },
  {
   "cell_type": "code",
   "execution_count": 14,
   "metadata": {},
   "outputs": [],
   "source": [
    "df = vec_meta_df[[\"abbreviation\",\"parent_abbreviation\"]].value_counts().reset_index()\n",
    "df.to_csv(\"freqdocs_agencies.csv\")"
   ]
  }
 ],
 "metadata": {
  "kernelspec": {
   "display_name": "base",
   "language": "python",
   "name": "python3"
  },
  "language_info": {
   "codemirror_mode": {
    "name": "ipython",
    "version": 3
   },
   "file_extension": ".py",
   "mimetype": "text/x-python",
   "name": "python",
   "nbconvert_exporter": "python",
   "pygments_lexer": "ipython3",
   "version": "3.10.10"
  },
  "orig_nbformat": 4
 },
 "nbformat": 4,
 "nbformat_minor": 2
}
